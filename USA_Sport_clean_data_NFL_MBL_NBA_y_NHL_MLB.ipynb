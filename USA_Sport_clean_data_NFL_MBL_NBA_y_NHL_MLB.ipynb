{
  "cells": [
    {
      "cell_type": "markdown",
      "metadata": {
        "deletable": false,
        "editable": false,
        "etc_identifier": "653a3605-5bda-4e1f-beef-04a0173d3f41",
        "nbgrader": {
          "cell_type": "markdown",
          "checksum": "60da2e57814a61cf6a81dd670bf35473",
          "grade": false,
          "grade_id": "cell-a6c4f74309fc2379",
          "locked": true,
          "schema_version": 3,
          "solution": false
        },
        "id": "5G3JnaGI3DQn"
      },
      "source": [
        "\n",
        "# USA-Sport-clean-data-NFL-MBL-NBA-y-NHL-MLB\n",
        "## Description\n",
        "In this script, we will read a file containing metropolitan regions and their associated sports teams from assets/wikipedia_data.html to answer some questions about each metropolitan area. These regions may have one or more teams from the \"Big 4\" leagues: NFL (football, found in assets/nfl.csv), MLB (baseball, found in assets/mlb.csv), NBA (basketball, found in assets/nba.csv), or NHL (hockey, found in assets/nhl.csv). Remember, all questions should be addressed from the perspective of the metropolitan region, and this file serves as the \"authority\" for the location of each sports team. Thus, teams commonly known by a different area (e.g., \"Oakland Raiders\") need to be mapped to the given metropolitan region (e.g., San Francisco Bay Area).\n",
        "\n",
        "For each sport, please answer the following question: what is the correlation between the win/loss ratio and the population of the city it is in? The win/loss ratio is defined as the number of wins divided by the sum of wins and losses. To calculate the correlation using [pearsonr], you will need to provide two ordered lists of values: the populations from the wikipedia_data.html file and the win/loss ratios for a given sport in the same order. Average the win/loss ratios for cities with multiple teams in a single sport. Each sport contributes equally to this assignment (20%*4=80%) of the total grade. Use only data from the year 2018 for your analysis -- this is crucial!"
      ]
    },
    {
      "cell_type": "markdown",
      "source": [
        "v"
      ],
      "metadata": {
        "id": "WtuLOB3z3WXm"
      }
    },
    {
      "cell_type": "markdown",
      "metadata": {
        "deletable": false,
        "editable": false,
        "nbgrader": {
          "cell_type": "markdown",
          "checksum": "369ff9ecf0ee04640574205cbc697f94",
          "grade": false,
          "grade_id": "cell-712b2b5da63d4505",
          "locked": true,
          "schema_version": 3,
          "solution": false
        },
        "id": "ucGLNfaj3DQq"
      },
      "source": [
        "## Stage 1\n",
        "Win/loss ratio's correlation with the population of the city it is in for the **NHL** using **2018** data."
      ]
    },
    {
      "cell_type": "code",
      "execution_count": 7,
      "metadata": {
        "deletable": false,
        "nbgrader": {
          "cell_type": "code",
          "checksum": "1cac4803b02502929f5b1612d48db2b5",
          "grade": false,
          "grade_id": "cell-69b16e4386e58030",
          "locked": false,
          "schema_version": 3,
          "solution": true
        },
        "id": "qolRglzH3DQq",
        "outputId": "f8335dc5-a118-4a69-e85e-6664bdf5ccbd",
        "colab": {
          "base_uri": "https://localhost:8080/"
        }
      },
      "outputs": [
        {
          "output_type": "execute_result",
          "data": {
            "text/plain": [
              "0.01230899645574427"
            ]
          },
          "metadata": {},
          "execution_count": 7
        }
      ],
      "source": [
        "\n",
        "\n",
        "def nhl_correlation():\n",
        "\n",
        "    import pandas as pd\n",
        "    import numpy as np\n",
        "    import scipy.stats as stats\n",
        "    import re\n",
        "\n",
        "    nhl_df=pd.read_csv(\"assets/nhl.csv\")\n",
        "    cities=pd.read_html(\"assets/wikipedia_data.html\")[1]\n",
        "    cities=cities.iloc[:-1,[0,3,5,6,7,8]] #Selecciona todas las filas exepto la ultima, y se indica los índices de las columnas que se van a conservar\n",
        "\n",
        "\n",
        "\n",
        "    nhl_df=nhl_df[nhl_df.year==2018] #Dejar solo las columnas del 2018\n",
        "    nhl_df=nhl_df[[\"team\", \"W\", \"L\"]] #Dejar solo las columnas necesarias de NHL\n",
        "    nhl_df[\"team\"] = nhl_df[\"team\"].str.replace(\"\\*$\", \"\", regex=True) #Limpiar el nombre de los equipos. Algunos equipos tienen \"*\" al final\n",
        "    cities[\"NHL\"]=cities[\"NHL\"].replace(r\"\\[.*\\]\", \"\", regex=True) #Limpiar el nombre de los equipos en \"cities\" de \"NHL\". Algunos de ellos tienen \"[]\" en el\n",
        "    cities=cities[['Metropolitan area', 'Population (2016 est.)[8]', 'NHL']] #Eliminar las columnas inecesarias\n",
        "    nhl_df[\"team_only\"] = nhl_df.team.apply(lambda x: x.rsplit(None, 1)[-1]) #En nhl_df los nombres de los equipos están mezclados con los nombres de las ciudades. Cepararlos para obtener los ganadores y perdedores\n",
        "    nhl_df.loc[3, \"team_only\"] = \"Maple Leafs\" #Algunos equipos tienen mas de una palabra en el nombre. Corregir eso\n",
        "    nhl_df.loc[5, \"team_only\"] = \"Red Wings\"\n",
        "    nhl_df.loc[13, \"team_only\"] = \"Blue Jackets\"\n",
        "    nhl_df.loc[27, \"team_only\"] = \"Golden Knights\"\n",
        "\n",
        "    #Remplazar los nombres de los equipos de la misma ciudad\n",
        "\n",
        "    nhl_df.loc[14, \"team_only\"] = \"Rangers Islanders Devils\"\n",
        "    nhl_df.loc[16, \"team_only\"] = \"Rangers Islanders Devils\"\n",
        "    nhl_df.loc[17, \"team_only\"] = \"Rangers Islanders Devils\"\n",
        "\n",
        "    nhl_df.loc[28, \"team_only\"] = \"Kings Ducks\"\n",
        "    nhl_df.loc[30, \"team_only\"] = \"Kings Ducks\"\n",
        "\n",
        "    cities=cities.rename(columns={'Metropolitan area':'city', 'Population (2016 est.)[8]':'population', 'NHL':'team_only'})#Renombrar las ciudades en un formato mas legible\n",
        "    nhl_df=nhl_df[~nhl_df.W.str.contains(\"Division\")]#Quitar las filas inecesarias con el nombre \"Division\" en ellas\n",
        "    nhl_df.W=nhl_df.W.astype(float) #Cambiar el tipo de datos de ganadores y perdedores de str a float\n",
        "    nhl_df.L=nhl_df.L.astype(float)\n",
        "    nhl_df=nhl_df.groupby(by=\"team_only\")[[\"W\", \"L\"]].mean() #Hay 4 equipos con el mismo nombre, vamos a agruparlos y obtener su promedio de los valores win y lose\n",
        "    nhl_df=nhl_df.reset_index() #Restablecer los indices luego de agruparlos para que puedan ser combinados con cities_df con su columna en común\n",
        "    merged_df=pd.merge(nhl_df, cities, on=\"team_only\") #Combinar ambos dataframes con las columnas requeridas de ambos\n",
        "\n",
        "\n",
        "\n",
        "    merged_df[[\"W\", \"L\"]]=merged_df[[\"W\", \"L\"]].astype(float) #Cambiar el tipo de datos de w y l de str a float\n",
        "\n",
        "\n",
        "\n",
        "    merged_df[\"win_lose_ratio\"] = merged_df.W/(merged_df.L+merged_df.W) #Crear la coluumna ratio win/lose ratio = win/lose+win\n",
        "\n",
        "    #Finalmente pase los valores numericos de population_by_region y win_loss_by_region\n",
        "\n",
        "\n",
        "    population_by_region = pd.to_numeric(merged_df[\"population\"],errors=\"coerce\") # pass in metropolitan area population from cities\n",
        "    win_loss_by_region = pd.to_numeric(merged_df[\"win_lose_ratio\"],errors=\"coerce\") # pass in win/loss ratio from nhl_df in the same order as cities[\"Metropolitan area\"]\n",
        "\n",
        "    assert len(population_by_region) == len(win_loss_by_region), \"Q1: Your lists must be the same length\"\n",
        "    assert len(population_by_region) == 28, \"Q1: There should be 28 teams being analysed for NHL\"\n",
        "\n",
        "    return stats.pearsonr(population_by_region, win_loss_by_region)[0]\n",
        "nhl_correlation()"
      ]
    },
    {
      "cell_type": "markdown",
      "metadata": {
        "deletable": false,
        "editable": false,
        "nbgrader": {
          "cell_type": "markdown",
          "checksum": "988912cae4968d81473f46d783e79c16",
          "grade": false,
          "grade_id": "cell-cb964e690298b71d",
          "locked": true,
          "schema_version": 3,
          "solution": false
        },
        "id": "Qiem6vsG3DQt"
      },
      "source": [
        "## Stage 2\n",
        "Win/loss ratio's correlation with the population of the city it is in for the **NBA** using **2018** data."
      ]
    },
    {
      "cell_type": "code",
      "execution_count": 9,
      "metadata": {
        "deletable": false,
        "nbgrader": {
          "cell_type": "code",
          "checksum": "9394222aafc8ccab0a228098ba0d6010",
          "grade": false,
          "grade_id": "cell-5a5f21279e3d3572",
          "locked": false,
          "schema_version": 3,
          "solution": true
        },
        "colab": {
          "base_uri": "https://localhost:8080/"
        },
        "id": "jT53mTK13DQt",
        "outputId": "be7875ae-9648-4093-9c5b-54936e29aba2"
      },
      "outputs": [
        {
          "output_type": "execute_result",
          "data": {
            "text/plain": [
              "-0.993185713027126"
            ]
          },
          "metadata": {},
          "execution_count": 9
        }
      ],
      "source": [
        "\n",
        "def nba_correlation():\n",
        "    import pandas as pd\n",
        "    import numpy as np\n",
        "    import scipy.stats as stats\n",
        "    import re\n",
        "\n",
        "    nba_df=pd.read_csv(\"assets/nba.csv\")\n",
        "    cities=pd.read_html(\"assets/wikipedia_data.html\")[1]\n",
        "    cities=cities.iloc[:-1,[0,3,5,6,7,8]] #Selecciona todas las filas exepto la ultima, y se indica los índices de las columnas que se van a conservar\n",
        "\n",
        "    nba_df=nba_df[nba_df[\"year\"] == 2018] #Dejar solo las columnas del 2018\n",
        "    nba_df=nba_df[[\"team\", \"W\", \"L\"]]#Dejar solo las columnas necesarias de NHL\n",
        "    nba_df[\"team\"]=nba_df[\"team\"].str.replace(r\"\\(.*\\)\",\"\").str.replace(r\"\\*\",\"\") #Limpiar el nombre de los equipos. Algunos equipos tienen \"*\" y \"()\" al final\n",
        "\n",
        "    cities[\"NBA\"]=cities[\"NBA\"].str.replace(\"\\[.*\\]\",\"\") #Limpiar el nombre de los equipos en \"cities\" de \"NBA\". Algunos de ellos tienen \"[]\" en el\n",
        "    cities=cities[[\"Metropolitan area\", \"Population (2016 est.)[8]\", \"NBA\"]]\n",
        "    nba_df[\"team_only\"]=nba_df.team.apply(lambda x: x.rsplit(None, 1)[-1])\n",
        "\n",
        "    nba_df.loc[10, \"team_only\"]=\"Knicks Nets\"\n",
        "    nba_df.loc[11, \"team_only\"]=\"Knicks Nets\"\n",
        "    nba_df.loc[24, \"team_only\"]=\"Lakers Clippers\"\n",
        "    nba_df.loc[25, \"team_only\"]=\"Lakers Clippers\"\n",
        "    nba_df.loc[17, \"team_only\"]=\"Trail Blazers\"\n",
        "\n",
        "    cities=cities.rename(columns={'Metropolitan area':'city', 'Population (2016 est.)[8]':'population', 'NBA':'team_only'})#Renombrar las ciudades en un formato mas legible\n",
        "\n",
        "    nba_df.W=nba_df.W.astype(float) #Cambiar el tipo de datos de ganadores y perdedores de str a float\n",
        "    nba_df.L=nba_df.L.astype(float)\n",
        "\n",
        "    nba_df=nba_df.groupby(by=\"team_only\")[[\"W\", \"L\"]].mean() #Hay 4 equipos con el mismo nombre, vamos a agruparlos y obtener su promedio de los valores win y lose\n",
        "    nba_df=nba_df.reset_index() #Restablecer los indices luego de agruparlos para que puedan ser combinados con cities_df con su columna en común\n",
        "    merged_df=pd.merge(nba_df, cities, on=\"team_only\") #Combinar ambos dataframes con las columnas requeridas de ambos\n",
        "\n",
        "    merged_df[[\"W\", \"L\"]]=merged_df[[\"W\", \"L\"]].astype(float) #Cambiar el tipo de datos de w y l de str a float\n",
        "\n",
        "    merged_df[\"win_lose_ratio\"] = merged_df.W/(merged_df.L+merged_df.W) #Crear la coluumna ratio win/lose ratio = win/lose+win\n",
        "\n",
        "\n",
        "    population_by_region = pd.to_numeric(merged_df[\"population\"],errors=\"coerce\") # pass in metropolitan area population from cities\n",
        "    win_loss_by_region = pd.to_numeric(merged_df[\"win_lose_ratio\"],errors=\"coerce\") # pass in win/loss ratio from nba_df in the same order as cities[\"Metropolitan area\"]\n",
        "\n",
        "    return stats.pearsonr(population_by_region, win_loss_by_region)[0]\n",
        "\n",
        "nba_correlation()"
      ]
    },
    {
      "cell_type": "markdown",
      "metadata": {
        "deletable": false,
        "editable": false,
        "nbgrader": {
          "cell_type": "markdown",
          "checksum": "1a1a5809f675ca033086422007cd73bd",
          "grade": false,
          "grade_id": "cell-96e15e4335df78f4",
          "locked": true,
          "schema_version": 3,
          "solution": false
        },
        "id": "h1vJC0Q73DQu"
      },
      "source": [
        "## Stage 3\n",
        "Win/loss ratio's correlation with the population of the city it is in for the **MLB** using **2018** data."
      ]
    },
    {
      "cell_type": "code",
      "execution_count": 10,
      "metadata": {
        "deletable": false,
        "nbgrader": {
          "cell_type": "code",
          "checksum": "27e8c0da6c9fa0dffc10488314335b6c",
          "grade": false,
          "grade_id": "cell-33b00fc3f3467b0c",
          "locked": false,
          "schema_version": 3,
          "solution": true
        },
        "id": "EJ2lOORx3DQu",
        "outputId": "e4da6eaf-b513-49a1-ea2f-821a36f7dc54",
        "colab": {
          "base_uri": "https://localhost:8080/"
        }
      },
      "outputs": [
        {
          "output_type": "execute_result",
          "data": {
            "text/plain": [
              "0.1505230448710485"
            ]
          },
          "metadata": {},
          "execution_count": 10
        }
      ],
      "source": [
        "def mlb_correlation():\n",
        "\n",
        "    import pandas as pd\n",
        "    import numpy as np\n",
        "    import scipy.stats as stats\n",
        "    import re\n",
        "\n",
        "    mlb_df=pd.read_csv(\"assets/mlb.csv\")\n",
        "    cities=pd.read_html(\"assets/wikipedia_data.html\")[1]\n",
        "    cities=cities.iloc[:-1,[0,3,5,6,7,8]] #Selecciona todas las filas exepto la ultima, y se indica los índices de las columnas que se van a conservar\n",
        "\n",
        "    mlb_df=mlb_df[mlb_df.year==2018] #Dejar solo las columnas del 2018\n",
        "    mlb_df=mlb_df[[\"team\", \"W\", \"L\"]] #Dejar solo las columnas necesarias de NHL\n",
        "    mlb_df[\"team\"] = mlb_df[\"team\"].str.replace(\"\\*$\", \"\", regex=True) #Limpiar el nombre de los equipos. Algunos equipos tienen \"*\" al final\n",
        "    cities[\"MLB\"]=cities[\"MLB\"].replace(r\"\\[.*\\]\", \"\", regex=True) #Limpiar el nombre de los equipos en \"cities\" de \"NHL\". Algunos de ellos tienen \"[]\" en el\n",
        "    cities=cities[['Metropolitan area', 'Population (2016 est.)[8]', 'MLB']] #Eliminar las columnas inecesarias\n",
        "    mlb_df[\"team_only\"] = mlb_df.team.apply(lambda x: x.rsplit(None, 1)[-1]) #En nhl_df los nombres de los equipos están mezclados con los nombres de las ciudades. Cepararlos para obtener los ganadores y perdedores\n",
        "\n",
        "\n",
        "    mlb_df.loc[13, \"team_only\"] = \"Dodgers Angels\" #Algunos equipos tienen mas de una palabra en el nombre. Corregir eso\n",
        "    mlb_df.loc[25, \"team_only\"] = \"Dodgers Angels\"\n",
        "\n",
        "    mlb_df.loc[18, \"team_only\"] = \"Yankees Mets\"\n",
        "    mlb_df.loc[1, \"team_only\"] = \"Yankees Mets\"\n",
        "\n",
        "    mlb_df.loc[11, \"team_only\"] = \"Giants Athletics\"\n",
        "    mlb_df.loc[28, \"team_only\"] = \"Giants Athletics\"\n",
        "\n",
        "    mlb_df.loc[0, \"team_only\"] = \"Red Sox\"\n",
        "    #mlb_df.loc[2, \"team_only\"] = \"Bay Rays\"\n",
        "    mlb_df.loc[3, \"team_only\"] = \"Blue Jays\"\n",
        "\n",
        "    mlb_df.loc[21, \"team_only\"] = \"Cubs White Sox\"\n",
        "    mlb_df.loc[8, \"team_only\"] = \"Cubs White Sox\"\n",
        "\n",
        "\n",
        "\n",
        "\n",
        "    cities=cities.rename(columns={'Metropolitan area':'city', 'Population (2016 est.)[8]':'population', 'MLB':'team_only'})#Renombrar las ciudades en un formato mas legible\n",
        "    #mlb_df=mlb_df[~mlb_df.W.str.contains(\"Division\")]#Quitar las filas inecesarias con el nombre \"Division\" en ellas\n",
        "    mlb_df.W=mlb_df.W.astype(float) #Cambiar el tipo de datos de ganadores y perdedores de str a float\n",
        "    mlb_df.L=mlb_df.L.astype(float)\n",
        "    mlb_df=mlb_df.groupby(by=\"team_only\")[[\"W\", \"L\"]].mean() #Hay 4 equipos con el mismo nombre, vamos a agruparlos y obtener su promedio de los valores win y lose\n",
        "    mlb_df=mlb_df.reset_index() #Restablecer los indices luego de agruparlos para que puedan ser combinados con cities_df con su columna en común\n",
        "    merged_df=pd.merge(mlb_df, cities, on=\"team_only\") #Combinar ambos dataframes con las columnas requeridas de ambos\n",
        "\n",
        "\n",
        "\n",
        "    merged_df[[\"W\", \"L\"]]=merged_df[[\"W\", \"L\"]].astype(float) #Cambiar el tipo de datos de w y l de str a float\n",
        "\n",
        "\n",
        "    merged_df[\"win_lose_ratio\"] = merged_df.W/(merged_df.L+merged_df.W) #Crear la coluumna ratio win/lose ratio = win/lose+win\n",
        "\n",
        "\n",
        "       # raise NotImplementedError()\n",
        "\n",
        "    population_by_region = pd.to_numeric(merged_df[\"population\"],errors=\"coerce\") # pass in metropolitan area population from cities\n",
        "    win_loss_by_region = pd.to_numeric(merged_df[\"win_lose_ratio\"],errors=\"coerce\") # pass in win/loss ratio from mlb_df in the same order as cities[\"Metropolitan area\"]\n",
        "\n",
        "\n",
        "    assert len(population_by_region) == len(win_loss_by_region), \"Q3: Your lists must be the same length\"\n",
        "    assert len(population_by_region) == 26, \"Q3: There should be 26 teams being analysed for MLB\"\n",
        "    #\n",
        "    return stats.pearsonr(population_by_region, win_loss_by_region)[0]\n",
        "mlb_correlation()"
      ]
    },
    {
      "cell_type": "markdown",
      "metadata": {
        "deletable": false,
        "editable": false,
        "nbgrader": {
          "cell_type": "markdown",
          "checksum": "6977a6da9ed6d8b7a0b7e37bbeda709b",
          "grade": false,
          "grade_id": "cell-793df6c04dfb126e",
          "locked": true,
          "schema_version": 3,
          "solution": false
        },
        "id": "B6bmpYJz3DQu"
      },
      "source": [
        "## Stage 4\n",
        "Win/loss ratio's correlation with the population of the city it is in for the **NFL** using **2018** data."
      ]
    },
    {
      "cell_type": "code",
      "execution_count": 12,
      "metadata": {
        "deletable": false,
        "nbgrader": {
          "cell_type": "code",
          "checksum": "c4914ad1e119278ec2bd567c52640b66",
          "grade": false,
          "grade_id": "cell-8ccebc209aeec8d9",
          "locked": false,
          "schema_version": 3,
          "solution": true
        },
        "id": "liP8EE8_3DQv",
        "outputId": "10858810-e2be-4fc4-fe1f-21bfef786862",
        "colab": {
          "base_uri": "https://localhost:8080/"
        }
      },
      "outputs": [
        {
          "output_type": "execute_result",
          "data": {
            "text/plain": [
              "0.00492211214934943"
            ]
          },
          "metadata": {},
          "execution_count": 12
        }
      ],
      "source": [
        "\n",
        "\n",
        "def nfl_correlation():\n",
        "\n",
        "    import pandas as pd\n",
        "    import numpy as np\n",
        "    import scipy.stats as stats\n",
        "    import re\n",
        "\n",
        "    nfl_df=pd.read_csv(\"assets/nfl.csv\")\n",
        "    cities=pd.read_html(\"assets/wikipedia_data.html\")[1]\n",
        "    cities=cities.iloc[:-1,[0,3,5,6,7,8]] #Selecciona todas las filas exepto la ultima, y se indica los índices de las columnas que se van a conservar\n",
        "\n",
        "    nfl_df=nfl_df[nfl_df.year==2018] #Dejar solo las columnas del 2018\n",
        "    nfl_df=nfl_df[[\"team\", \"W\", \"L\"]] #Dejar solo las columnas necesarias de NHL\n",
        "    nfl_df[\"team\"] = nfl_df[\"team\"].str.replace(\"\\*$\", \"\", regex=True) #Limpiar el nombre de los equipos. Algunos equipos tienen \"*\" al final\n",
        "    nfl_df[\"team\"] = nfl_df[\"team\"].str.replace(\"\\+$\", \"\", regex=True)\n",
        "    cities[\"NFL\"]=cities[\"NFL\"].replace(r\"\\[.*\\]\", \"\", regex=True) #Limpiar el nombre de los equipos en \"cities\" de \"NHL\". Algunos de ellos tienen \"[]\" en el\n",
        "    cities=cities[['Metropolitan area', 'Population (2016 est.)[8]', 'NFL']] #Eliminar las columnas inecesarias\n",
        "    nfl_df[\"team_only\"] = nfl_df.team.apply(lambda x: x.rsplit(None, 1)[-1]) #En nhl_df los nombres de los equipos están mezclados con los nombres de las ciuda\n",
        "    cities\n",
        "    nfl_df.loc[17, \"team_only\"] = \"Rams Chargers\" #Algunos equipos tienen mas de una palabra en el nombre. Corregir eso\n",
        "    nfl_df.loc[36, \"team_only\"] = \"Rams Chargers\"\n",
        "\n",
        "    nfl_df.loc[24, \"team_only\"] = \"Giants Jets\"\n",
        "    nfl_df.loc[4, \"team_only\"] = \"Giants Jets\"\n",
        "\n",
        "    nfl_df.loc[19, \"team_only\"] = \"49ers Raiders\"\n",
        "    nfl_df.loc[38, \"team_only\"] = \"49ers Raiders\"\n",
        "\n",
        "    cities=cities.rename(columns={'Metropolitan area':'city', 'Population (2016 est.)[8]':'population', 'NFL':'team_only'})#Renombrar las ciudades en un formato mas legible\n",
        "    nfl_df=nfl_df[~nfl_df.team.str.contains(\"AFC\")]#Quitar las filas inecesarias con el nombre \"Division\" en ellas\n",
        "    nfl_df=nfl_df[~nfl_df.team.str.contains(\"NFC\")]#Quitar las filas inecesarias con el nombre \"Division\" en ellas\n",
        "    nfl_df.W=nfl_df.W.astype(float) #Cambiar el tipo de datos de ganadores y perdedores de str a float\n",
        "    nfl_df.L=nfl_df.L.astype(float)\n",
        "    nfl_df=nfl_df.groupby(by=\"team_only\")[[\"W\", \"L\"]].mean() #Hay 4 equipos con el mismo nombre, vamos a agruparlos y obtener su promedio de los valores win y lose\n",
        "    nfl_df=nfl_df.reset_index() #Restablecer los indices luego de agruparlos para que puedan ser combinados con cities_df con su columna en común\n",
        "    merged_df=pd.merge(nfl_df, cities, on=\"team_only\") #Combinar ambos dataframes con las columnas requeridas de ambos\n",
        "\n",
        "\n",
        "    merged_df[[\"W\", \"L\"]]=merged_df[[\"W\", \"L\"]].astype(float) #Cambiar el tipo de datos de w y l de str a float\n",
        "\n",
        "\n",
        "    merged_df[\"win_lose_ratio\"] = merged_df.W/(merged_df.L+merged_df.W) #Crear la coluumna ratio win/lose ratio = win/lose+win\n",
        "\n",
        "\n",
        "    population_by_region = pd.to_numeric(merged_df[\"population\"],errors=\"coerce\") # pass in metropolitan area population from cities\n",
        "    win_loss_by_region = pd.to_numeric(merged_df[\"win_lose_ratio\"],errors=\"coerce\") # pass in win/loss ratio from nfl_df in the same order as cities[\"Metropolitan area\"]\n",
        "\n",
        "    assert len(population_by_region) == len(win_loss_by_region), \"Q4: Your lists must be the same length\"\n",
        "    assert len(population_by_region) == 29, \"Q4: There should be 29 teams being analysed for NFL\"\n",
        "\n",
        "    return stats.pearsonr(population_by_region, win_loss_by_region)[0]\n",
        "\n",
        "nfl_correlation()"
      ]
    }
  ],
  "metadata": {
    "kernelspec": {
      "display_name": "Python 3 (ipykernel)",
      "language": "python",
      "name": "python3"
    },
    "language_info": {
      "codemirror_mode": {
        "name": "ipython",
        "version": 3
      },
      "file_extension": ".py",
      "mimetype": "text/x-python",
      "name": "python",
      "nbconvert_exporter": "python",
      "pygments_lexer": "ipython3",
      "version": "3.9.13"
    },
    "colab": {
      "provenance": []
    }
  },
  "nbformat": 4,
  "nbformat_minor": 0
}